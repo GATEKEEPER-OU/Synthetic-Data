{
  "cells": [
    {
      "cell_type": "code",
      "execution_count": null,
      "metadata": {
        "colab": {
          "base_uri": "https://localhost:8080/"
        },
        "id": "PpDZ7rIZxI69",
        "outputId": "7f6cce44-ae33-4535-c3ef-bf06d32324ed"
      },
      "outputs": [
        {
          "output_type": "stream",
          "name": "stdout",
          "text": [
            "Drive already mounted at /content/gdrive; to attempt to forcibly remount, call drive.mount(\"/content/gdrive\", force_remount=True).\n"
          ]
        }
      ],
      "source": [
        "from google.colab import drive\n",
        "drive.mount(\"/content/gdrive\")"
      ]
    },
    {
      "cell_type": "code",
      "execution_count": null,
      "metadata": {
        "id": "f2fB_2w9FMak"
      },
      "outputs": [],
      "source": [
        "import pandas as pd\n",
        "import numpy as np\n",
        "import string, os"
      ]
    },
    {
      "cell_type": "code",
      "execution_count": null,
      "metadata": {
        "id": "YAzSX-XlGust"
      },
      "outputs": [],
      "source": [
        "observationDir = \"/content/gdrive/MyDrive/Colab Notebooks/Samsung\"\n",
        "data_dir = os.path.join(observationDir, \"data\")\n",
        "checkpoint_dir = os.path.join(observationDir, \"checkpoints\")\n",
        "model_dir = os.path.join(observationDir, \"models\")\n",
        "resource_dir = os.path.join(observationDir, \"resources\")\n",
        "output_dir = os.path.join(observationDir, \"output\")"
      ]
    },
    {
      "cell_type": "code",
      "execution_count": null,
      "metadata": {
        "id": "kh0ESdpBxWTe"
      },
      "outputs": [],
      "source": [
        "observationFile = os.path.join(data_dir, \"events_2.txt\")\n",
        "keras_file = os.path.join(model_dir, \"events_model.h5\")\n"
      ]
    },
    {
      "cell_type": "code",
      "execution_count": null,
      "metadata": {
        "id": "nEGa_GJFr-3T"
      },
      "outputs": [],
      "source": [
        "# set seeds for reproducability\n",
        "import tensorflow as tf\n",
        "from numpy.random import seed\n",
        "\n",
        "tf.random.set_seed(2)\n",
        "seed(1)"
      ]
    },
    {
      "cell_type": "code",
      "execution_count": null,
      "metadata": {
        "id": "n2L9ad0ESI__"
      },
      "outputs": [],
      "source": [
        "class Config:\n",
        "    # define the data file name\n",
        "    DATA_FNAME = observationFile\n",
        "    \n",
        "    # define the batch size\n",
        "    BATCH_SIZE = 5\n",
        "    \n",
        "    # define the encoder configurations\n",
        "    EMBEDDING_DIM = 256\n",
        "    RNN_UNITS = 1024\n",
        "\n",
        "    # define the training configurations\n",
        "    EPOCHS = 50\n",
        "    LR_START = 1e-4\n",
        "    LR_MAX = 1e-3\n",
        "    WARMUP_PERCENT = 0.15\n",
        "\n",
        "    # define the patience for early stopping\n",
        "    PATIENCE = 3\n",
        "    \n",
        "    # define the output path\n",
        "    OUTPUT_PATH = output_dir\n",
        "\n",
        "config = Config()"
      ]
    },
    {
      "cell_type": "code",
      "execution_count": null,
      "metadata": {
        "id": "aPBPELZOS5SQ"
      },
      "outputs": [],
      "source": [
        "def load_data(fname):\n",
        "    with open(fname, \"r\") as f:\n",
        "      contents = f.readlines()\n",
        "\n",
        "    source = []\n",
        "    target = []\n",
        "    inps = []\n",
        "\n",
        "    max_length = 187\n",
        "    for c in contents:\n",
        "        inp = c.rstrip()\n",
        "        if len(inp) == 0:\n",
        "          continue\n",
        "        inp = \"%\" + inp + \";\"\n",
        "        res = [inp[i:i + max_length] for i in range(0, len(inp), max_length)]\n",
        "        for i in res:\n",
        "          src = i[:-1]\n",
        "          tgt = i[1:]\n",
        "          \n",
        "          source.append(src)\n",
        "          target.append(tgt)\n",
        "        inps.append(inp)\n",
        "\n",
        "\n",
        "    # return the list of source and target sentences\n",
        "    return (source, target, inps, max_length)"
      ]
    },
    {
      "cell_type": "code",
      "execution_count": null,
      "metadata": {
        "colab": {
          "base_uri": "https://localhost:8080/"
        },
        "id": "8pWrDpuRVLZQ",
        "outputId": "b786fb03-649c-4ad2-e602-b9cacf727687"
      },
      "outputs": [
        {
          "output_type": "stream",
          "name": "stdout",
          "text": [
            "[INFO] loading data from /content/gdrive/MyDrive/Colab Notebooks/Samsung/data/events_2.txt...\n",
            "274255 274255 187\n"
          ]
        }
      ],
      "source": [
        "# load data from disk\n",
        "print(f\"[INFO] loading data from {config.DATA_FNAME}...\")\n",
        "(source, target, inp, max_length) = load_data(fname=config.DATA_FNAME)\n",
        "print(len(source), len(target), max_length)"
      ]
    },
    {
      "cell_type": "code",
      "execution_count": null,
      "metadata": {
        "id": "sIXoaYpHYCfi"
      },
      "outputs": [],
      "source": [
        "train = (source, target)"
      ]
    },
    {
      "cell_type": "code",
      "execution_count": null,
      "metadata": {
        "colab": {
          "base_uri": "https://localhost:8080/"
        },
        "id": "_NwY9xt3WABL",
        "outputId": "73018932-a324-4f23-95c4-d6ded1d23b91"
      },
      "outputs": [
        {
          "output_type": "stream",
          "name": "stdout",
          "text": [
            "Patient/1001 1 0 {\"code\": {\"coding\": [{\"code\": \"93830-8\", \"display\": \"Light sleep duration\", \"system\": \"<URI_loinc>\"}]}, \"valuePeriod\": {\"<D>\": 2520}};\n"
          ]
        }
      ],
      "source": [
        "print(target[0])"
      ]
    },
    {
      "cell_type": "code",
      "execution_count": null,
      "metadata": {
        "colab": {
          "base_uri": "https://localhost:8080/"
        },
        "id": "qVzMvpzlzEC1",
        "outputId": "fc3731ae-2a24-45ed-c185-37619598728f"
      },
      "outputs": [
        {
          "output_type": "stream",
          "name": "stdout",
          "text": [
            "[INFO] performing text vectorization...\n"
          ]
        }
      ],
      "source": [
        "# create source text processing layer and adapt on the training\n",
        "# source sentences\n",
        "print(\"[INFO] performing text vectorization...\")\n",
        "\n",
        "sourceTextProcessor = tf.keras.layers.TextVectorization(\n",
        "    max_tokens=max_length,\n",
        "    standardize=None,\n",
        "    split = \"character\",\n",
        "    pad_to_max_tokens = True\n",
        ")\n",
        "sourceTextProcessor.adapt(inp)"
      ]
    },
    {
      "cell_type": "code",
      "execution_count": null,
      "metadata": {
        "id": "9IQW4XVBwogB"
      },
      "outputs": [],
      "source": [
        "source_vector = sourceTextProcessor(source)\n",
        "target_vector = sourceTextProcessor(target)"
      ]
    },
    {
      "cell_type": "code",
      "execution_count": null,
      "metadata": {
        "id": "bJa7Q88bYUtG"
      },
      "outputs": [],
      "source": [
        "def make_dataset(splits, batchSize, train=False):\n",
        "    # build a TensorFlow dataset from the input and target\n",
        "    (source, target) = splits \n",
        "    dataset = tf.data.Dataset.from_tensor_slices((source_vector, target_vector))\n",
        "\n",
        "    # check if this is the training dataset, if so, shuffle, batch,\n",
        "    # and prefetch it\n",
        "    if train:\n",
        "        dataset = (\n",
        "            dataset\n",
        "            .batch(batchSize)\n",
        "            .prefetch(tf.data.experimental.AUTOTUNE)\n",
        "        )\n",
        "\n",
        "    # otherwise, just batch the dataset\n",
        "    else:\n",
        "        dataset = (\n",
        "            dataset\n",
        "            .batch(batchSize)\n",
        "            .prefetch(tf.data.experimental.AUTOTUNE)\n",
        "        )\n",
        "\n",
        "    # return the dataset\n",
        "    return dataset"
      ]
    },
    {
      "cell_type": "code",
      "execution_count": null,
      "metadata": {
        "colab": {
          "base_uri": "https://localhost:8080/"
        },
        "id": "UYoc0R5wY1TH",
        "outputId": "aaf6ede9-2ea0-47d6-f7fd-cef7739df709"
      },
      "outputs": [
        {
          "output_type": "stream",
          "name": "stdout",
          "text": [
            "[INFO] building TensorFlow Data input pipeline...\n"
          ]
        }
      ],
      "source": [
        "# build the TensorFlow data datasets of the respective data splits\n",
        "print(\"[INFO] building TensorFlow Data input pipeline...\")\n",
        "trainDs = make_dataset(splits=train, batchSize=config.BATCH_SIZE,\n",
        "    train=True)"
      ]
    },
    {
      "cell_type": "code",
      "execution_count": null,
      "metadata": {
        "id": "VLi7toM7HGeU"
      },
      "outputs": [],
      "source": [
        "# Length of the vocabulary in StringLookup Layer\n",
        "vocab_size = len(sourceTextProcessor.get_vocabulary())\n",
        "\n",
        "# The embedding dimension\n",
        "embedding_dim = 256\n",
        "\n",
        "# Number of RNN units\n",
        "rnn_units = 1024"
      ]
    },
    {
      "cell_type": "code",
      "execution_count": null,
      "metadata": {
        "colab": {
          "base_uri": "https://localhost:8080/"
        },
        "id": "D51CFbj7TIC7",
        "outputId": "94362e40-ad2f-4595-e659-5ad5ad37fa43"
      },
      "outputs": [
        {
          "output_type": "stream",
          "name": "stdout",
          "text": [
            "74\n"
          ]
        }
      ],
      "source": [
        "print(vocab_size)"
      ]
    },
    {
      "cell_type": "code",
      "execution_count": null,
      "metadata": {
        "id": "xbGKicg47Or4"
      },
      "outputs": [],
      "source": [
        "def eventModel(vocab_size, embedding_dim, rnn_units, batch_size):\n",
        "  print(vocab_size)\n",
        "  model = tf.keras.Sequential([\n",
        "    tf.keras.layers.Embedding(vocab_size, embedding_dim,\n",
        "                              batch_input_shape=[batch_size, None], mask_zero=True, name=\"eventEmbedding\"),\n",
        "    tf.keras.layers.GRU(rnn_units,\n",
        "                        return_sequences=True,\n",
        "                        stateful=True,\n",
        "                        recurrent_initializer='glorot_uniform', name=\"eventGRU_1\"),\n",
        "    tf.keras.layers.GRU(rnn_units,\n",
        "                        return_sequences=True,\n",
        "                        stateful=True,\n",
        "                        recurrent_initializer='glorot_uniform', name=\"eventGRU_2\"),\n",
        "    tf.keras.layers.Dense(vocab_size, name=\"eventDense\")\n",
        "  ], name=\"eventModel\")\n",
        "  return model"
      ]
    },
    {
      "cell_type": "code",
      "execution_count": null,
      "metadata": {
        "colab": {
          "base_uri": "https://localhost:8080/"
        },
        "id": "g3rH64ipOYAM",
        "outputId": "4c39ac0f-a64e-4152-e156-241124724067"
      },
      "outputs": [
        {
          "output_type": "stream",
          "name": "stdout",
          "text": [
            "74\n"
          ]
        }
      ],
      "source": [
        "print(vocab_size)"
      ]
    },
    {
      "cell_type": "code",
      "execution_count": null,
      "metadata": {
        "colab": {
          "base_uri": "https://localhost:8080/"
        },
        "id": "Q2bx_wWA65lO",
        "outputId": "8a638458-2ffe-4ce8-b93c-5de618664de6"
      },
      "outputs": [
        {
          "output_type": "stream",
          "name": "stdout",
          "text": [
            "74\n"
          ]
        }
      ],
      "source": [
        "model = eventModel(\n",
        "    vocab_size=vocab_size,\n",
        "    embedding_dim=embedding_dim,\n",
        "    rnn_units=rnn_units,\n",
        "    batch_size = config.BATCH_SIZE)"
      ]
    },
    {
      "cell_type": "markdown",
      "metadata": {
        "id": "RxaDI1WtO4y3"
      },
      "source": [
        "#### If you have partly trained your model, uncomment the relevant lines and change checkpoint directory, if necessary, to load saved checkpoint weights"
      ]
    },
    {
      "cell_type": "code",
      "execution_count": null,
      "metadata": {
        "colab": {
          "base_uri": "https://localhost:8080/"
        },
        "id": "5fySm36_RzqP",
        "outputId": "a0f6cc20-f640-4df9-81c6-9cb0ad02418a"
      },
      "outputs": [
        {
          "output_type": "execute_result",
          "data": {
            "text/plain": [
              "<tensorflow.python.training.tracking.util.CheckpointLoadStatus at 0x7f32636c5340>"
            ]
          },
          "metadata": {},
          "execution_count": 20
        }
      ],
      "source": [
        "# Find last checkpoint\n",
        "tf.train.latest_checkpoint(checkpoint_dir)\n",
        "\n",
        "model.load_weights(tf.train.latest_checkpoint(checkpoint_dir))"
      ]
    },
    {
      "cell_type": "code",
      "execution_count": null,
      "metadata": {
        "colab": {
          "base_uri": "https://localhost:8080/"
        },
        "id": "c0jxJ3wMQABC",
        "outputId": "3bff24c2-10ae-4102-889d-b52fc59d0e79"
      },
      "outputs": [
        {
          "output_type": "stream",
          "name": "stdout",
          "text": [
            "tf.Tensor(\n",
            "[[48 34  9  7  6  4 12  7 44 18 19 19 18  3 18  3 19  3 17  2 13  8 10  4\n",
            "   2  5  3 17  2 13  8 10  6 12 23  2  5  3 42 17  2 13  8 10  4  2  5  3\n",
            "   2 38 27 26 27 19 45 26  2 14  3  2 10  6 11 32 15  9 20  2  5  3  2 50\n",
            "   6 23 54  7  3 11 15  4  4 32  3 10 21 30  9  7  6  8 12  2 14  3  2 11\n",
            "  20 11  7  4 22  2  5  3  2 25 31 35 37 36 15  8  6 12 13 24  2 16 41 16\n",
            "  14  3  2 33  9 15 21  4 34  4 30  6  8 10  2  5  3 17  2 25 46 24  2  5\n",
            "   3 28 40 28 19 16 16  0  0  0  0  0  0  0  0  0  0  0  0  0  0  0  0  0\n",
            "   0  0  0  0  0  0  0  0  0  0  0  0  0  0  0  0  0  0]\n",
            " [48 34  9  7  6  4 12  7 44 18 19 19 18  3 28  3 39 19  3 17  2 13  8 10\n",
            "   4  2  5  3 17  2 13  8 10  6 12 23  2  5  3 42 17  2 13  8 10  4  2  5\n",
            "   3  2 50 34 29 18 28 18 18 27 45 40  2 14  3  2 10  6 11 32 15  9 20  2\n",
            "   5  3  2 50  6 23 54  7  3 11 15  4  4 32  3 10 21 30  9  7  6  8 12  2\n",
            "  14  3  2 11 20 11  7  4 22  2  5  3  2 25 31 35 37 36 15  8  6 12 13 24\n",
            "   2 16 41 16 14  3  2 33  9 15 21  4 34  4 30  6  8 10  2  5  3 17  2 25\n",
            "  46 24  2  5  3 39 19 16 16  0  0  0  0  0  0  0  0  0  0  0  0  0  0  0\n",
            "   0  0  0  0  0  0  0  0  0  0  0  0  0  0  0  0  0  0]\n",
            " [48 34  9  7  6  4 12  7 44 18 19 19 18  3 27  3 29 28 19  3 17  2 13  8\n",
            "  10  4  2  5  3 17  2 13  8 10  6 12 23  2  5  3 42 17  2 13  8 10  4  2\n",
            "   5  3  2 38 27 26 27 19 45 26  2 14  3  2 10  6 11 32 15  9 20  2  5  3\n",
            "   2 50  6 23 54  7  3 11 15  4  4 32  3 10 21 30  9  7  6  8 12  2 14  3\n",
            "   2 11 20 11  7  4 22  2  5  3  2 25 31 35 37 36 15  8  6 12 13 24  2 16\n",
            "  41 16 14  3  2 33  9 15 21  4 34  4 30  6  8 10  2  5  3 17  2 25 46 24\n",
            "   2  5  3 27 39 19 16 16  0  0  0  0  0  0  0  0  0  0  0  0  0  0  0  0\n",
            "   0  0  0  0  0  0  0  0  0  0  0  0  0  0  0  0  0  0]\n",
            " [48 34  9  7  6  4 12  7 44 18 19 19 18  3 29  3 29 26 19  3 17  2 13  8\n",
            "  10  4  2  5  3 17  2 13  8 10  6 12 23  2  5  3 42 17  2 13  8 10  4  2\n",
            "   5  3  2 50 34 29 18 28 18 18 27 45 40  2 14  3  2 10  6 11 32 15  9 20\n",
            "   2  5  3  2 50  6 23 54  7  3 11 15  4  4 32  3 10 21 30  9  7  6  8 12\n",
            "   2 14  3  2 11 20 11  7  4 22  2  5  3  2 25 31 35 37 36 15  8  6 12 13\n",
            "  24  2 16 41 16 14  3  2 33  9 15 21  4 34  4 30  6  8 10  2  5  3 17  2\n",
            "  25 46 24  2  5  3 39 19 16 16  0  0  0  0  0  0  0  0  0  0  0  0  0  0\n",
            "   0  0  0  0  0  0  0  0  0  0  0  0  0  0  0  0  0  0]\n",
            " [48 34  9  7  6  4 12  7 44 18 19 19 18  3 40  3 18 40 39 19  3 17  2 13\n",
            "   8 10  4  2  5  3 17  2 13  8 10  6 12 23  2  5  3 42 17  2 13  8 10  4\n",
            "   2  5  3  2 38 27 26 27 19 45 26  2 14  3  2 10  6 11 32 15  9 20  2  5\n",
            "   3  2 50  6 23 54  7  3 11 15  4  4 32  3 10 21 30  9  7  6  8 12  2 14\n",
            "   3  2 11 20 11  7  4 22  2  5  3  2 25 31 35 37 36 15  8  6 12 13 24  2\n",
            "  16 41 16 14  3  2 33  9 15 21  4 34  4 30  6  8 10  2  5  3 17  2 25 46\n",
            "  24  2  5  3 18 19 26 19 16 16  0  0  0  0  0  0  0  0  0  0  0  0  0  0\n",
            "   0  0  0  0  0  0  0  0  0  0  0  0  0  0  0  0  0  0]], shape=(5, 186), dtype=int64)\n",
            "(5, 186, 74) # (batch_size, sequence_length, vocab_size)\n"
          ]
        }
      ],
      "source": [
        "for input_example_batch, target_example_batch in trainDs.take(1):\n",
        "  print(input_example_batch)\n",
        "  example_batch_predictions = model(input_example_batch)\n",
        "  print(example_batch_predictions.shape, \"# (batch_size, sequence_length, vocab_size)\")"
      ]
    },
    {
      "cell_type": "code",
      "execution_count": null,
      "metadata": {
        "colab": {
          "base_uri": "https://localhost:8080/"
        },
        "id": "xJZKBTuP6xzE",
        "outputId": "b1efbad3-203e-49e4-9a77-5f2b01c99fbb"
      },
      "outputs": [
        {
          "output_type": "stream",
          "name": "stdout",
          "text": [
            "Model: \"eventModel\"\n",
            "_________________________________________________________________\n",
            " Layer (type)                Output Shape              Param #   \n",
            "=================================================================\n",
            " eventEmbedding (Embedding)  (5, None, 256)            18944     \n",
            "                                                                 \n",
            " eventGRU_1 (GRU)            (5, None, 1024)           3938304   \n",
            "                                                                 \n",
            " eventGRU_2 (GRU)            (5, None, 1024)           6297600   \n",
            "                                                                 \n",
            " eventDense (Dense)          (5, None, 74)             75850     \n",
            "                                                                 \n",
            "=================================================================\n",
            "Total params: 10,330,698\n",
            "Trainable params: 10,330,698\n",
            "Non-trainable params: 0\n",
            "_________________________________________________________________\n"
          ]
        }
      ],
      "source": [
        "model.summary()"
      ]
    },
    {
      "cell_type": "code",
      "execution_count": null,
      "metadata": {
        "colab": {
          "base_uri": "https://localhost:8080/",
          "height": 533
        },
        "id": "9NhLAMh0WKi-",
        "outputId": "a8c03601-0abe-4a90-f165-93749a31440c"
      },
      "outputs": [
        {
          "output_type": "execute_result",
          "data": {
            "image/png": "[encoded data removed]",
            "text/plain": [
              "<IPython.core.display.Image object>"
            ]
          },
          "metadata": {},
          "execution_count": 23
        }
      ],
      "source": [
        "from keras.utils.vis_utils import plot_model\n",
        "plot_model(model, to_file='modelSummary.png', show_shapes=True, show_layer_names=False)"
      ]
    },
    {
      "cell_type": "code",
      "execution_count": null,
      "metadata": {
        "colab": {
          "base_uri": "https://localhost:8080/"
        },
        "id": "wgpM3YZd6OZO",
        "outputId": "3cb8f2a4-215b-4d10-ef7e-37fc1a96e295"
      },
      "outputs": [
        {
          "output_type": "stream",
          "name": "stdout",
          "text": [
            "Prediction shape:  (5, 186, 74)  # (batch_size, sequence_length, vocab_size)\n",
            "scalar_loss:       1.1269708\n"
          ]
        }
      ],
      "source": [
        "# The standard tf.keras.losses.sparse_categorical_crossentropy loss function works in this case \n",
        "# because it is applied across the last dimension of the predictions.\n",
        " \n",
        "# Because our model returns logits, we need to set the from_logits flag.\n",
        " \n",
        "loss = tf.losses.SparseCategoricalCrossentropy(from_logits=True)\n",
        "#loss = MaskedLoss()\n",
        " \n",
        "example_batch_loss  = loss(target_example_batch, example_batch_predictions)\n",
        "print(\"Prediction shape: \", example_batch_predictions.shape, \" # (batch_size, sequence_length, vocab_size)\")\n",
        "print(\"scalar_loss:      \", example_batch_loss.numpy().mean())\n",
        "\n",
        "optimizer =  tf.keras.optimizers.SGD(learning_rate=0.01, momentum=0.9, clipvalue=3.0)\n",
        "\n",
        "model.compile(optimizer=optimizer, loss=loss, metrics=['accuracy'])"
      ]
    },
    {
      "cell_type": "code",
      "execution_count": null,
      "metadata": {
        "id": "ZL6KTDVNObV8"
      },
      "outputs": [],
      "source": [
        "# Name of the checkpoint files\n",
        "checkpoint_prefix = os.path.join(checkpoint_dir, \"ckpt_{epoch}\")\n",
        "\n",
        "checkpoint_callback = tf.keras.callbacks.ModelCheckpoint(\n",
        "   filepath=checkpoint_prefix,\n",
        "   save_weights_only=True)"
      ]
    },
    {
      "cell_type": "markdown",
      "metadata": {
        "id": "KIHPORe3REik"
      },
      "source": [
        "## Uncomment  the lines below to train the model"
      ]
    },
    {
      "cell_type": "code",
      "execution_count": null,
      "metadata": {
        "colab": {
          "base_uri": "https://localhost:8080/"
        },
        "id": "knjSX1qZxfcn",
        "outputId": "7da912cc-5406-421d-bbd0-e039ca7fd9c0"
      },
      "outputs": [
        {
          "output_type": "stream",
          "name": "stdout",
          "text": [
            "Epoch 1/20\n",
            "54851/54851 [==============================] - 1476s 27ms/step - loss: 0.0690 - accuracy: 0.9720\n",
            "Epoch 2/20\n",
            "54851/54851 [==============================] - 1467s 27ms/step - loss: 0.0686 - accuracy: 0.9722\n",
            "Epoch 3/20\n",
            "54851/54851 [==============================] - 1471s 27ms/step - loss: 0.0683 - accuracy: 0.9723\n",
            "Epoch 4/20\n",
            "54851/54851 [==============================] - 1473s 27ms/step - loss: 0.0680 - accuracy: 0.9724\n",
            "Epoch 5/20\n",
            "54851/54851 [==============================] - 1472s 27ms/step - loss: 0.0677 - accuracy: 0.9726\n",
            "Epoch 6/20\n",
            "54851/54851 [==============================] - 1469s 27ms/step - loss: 0.0673 - accuracy: 0.9728\n",
            "Epoch 7/20\n",
            "54851/54851 [==============================] - 1477s 27ms/step - loss: 0.0670 - accuracy: 0.9729\n",
            "Epoch 8/20\n",
            "54851/54851 [==============================] - 1474s 27ms/step - loss: 0.0666 - accuracy: 0.9731\n",
            "Epoch 9/20\n",
            "54851/54851 [==============================] - 1446s 26ms/step - loss: 0.0662 - accuracy: 0.9733\n",
            "Epoch 10/20\n",
            "54851/54851 [==============================] - 1356s 25ms/step - loss: 0.0659 - accuracy: 0.9735\n",
            "Epoch 11/20\n",
            "54851/54851 [==============================] - 1351s 25ms/step - loss: 0.0655 - accuracy: 0.9736\n",
            "Epoch 12/20\n",
            "54851/54851 [==============================] - 1343s 24ms/step - loss: 0.0652 - accuracy: 0.9738\n",
            "Epoch 13/20\n",
            "54851/54851 [==============================] - 1395s 25ms/step - loss: 0.0649 - accuracy: 0.9739\n",
            "Epoch 14/20\n",
            "54851/54851 [==============================] - 1522s 28ms/step - loss: 0.0645 - accuracy: 0.9741\n",
            "Epoch 15/20\n",
            "54851/54851 [==============================] - 1521s 28ms/step - loss: 0.0641 - accuracy: 0.9743\n",
            "Epoch 16/20\n",
            "54851/54851 [==============================] - 1519s 28ms/step - loss: 0.0637 - accuracy: 0.9745\n",
            "Epoch 17/20\n",
            "54851/54851 [==============================] - 1344s 25ms/step - loss: 0.0633 - accuracy: 0.9746\n",
            "Epoch 18/20\n",
            "54851/54851 [==============================] - 1392s 25ms/step - loss: 0.0631 - accuracy: 0.9747\n",
            "Epoch 19/20\n",
            "54851/54851 [==============================] - 1430s 26ms/step - loss: 0.0628 - accuracy: 0.9749\n",
            "Epoch 20/20\n",
            "54851/54851 [==============================] - 1430s 26ms/step - loss: 0.0627 - accuracy: 0.9749\n"
          ]
        }
      ],
      "source": [
        "EPOCHS = 20\n",
        "history = model.fit(trainDs, epochs=EPOCHS, batch_size=config.BATCH_SIZE, shuffle=False, callbacks=[checkpoint_callback])"
      ]
    },
    {
      "cell_type": "markdown",
      "metadata": {
        "id": "kzwu7giTQtD6"
      },
      "source": [
        "Epoch 1/20\n",
        "54851/54851 [==============================] - 3797s 69ms/step - loss: 0.0947 - accuracy: 0.9606\n",
        "Epoch 2/20\n",
        "54851/54851 [==============================] - 3805s 69ms/step - loss: 0.0943 - accuracy: 0.9607\n",
        "Epoch 3/20\n",
        "54851/54851 [==============================] - 3777s 69ms/step - loss: 0.0941 - accuracy: 0.9607\n",
        "Epoch 4/20\n",
        "54851/54851 [==============================] - 3790s 69ms/step - loss: 0.0937 - accuracy: 0.9609\n",
        "Epoch 5/20\n",
        "54851/54851 [==============================] - 3820s 70ms/step - loss: 0.0934 - accuracy: 0.9610\n",
        "Epoch 6/20\n",
        "54851/54851 [==============================] - 3873s 71ms/step - loss: 0.0930 - accuracy: 0.9611\n",
        "Epoch 7/20\n",
        "54851/54851 [==============================] - 3877s 71ms/step - loss: 0.0927 - accuracy: 0.9613\n",
        "Epoch 8/20\n",
        "54851/54851 [==============================] - 3872s 71ms/step - loss: 0.0924 - accuracy: 0.9614"
      ]
    },
    {
      "cell_type": "code",
      "execution_count": null,
      "metadata": {
        "id": "8cNENKkUNwBL"
      },
      "outputs": [],
      "source": [
        "import matplotlib.pyplot as plt\n",
        "\n",
        "# summarize history for accuracy\n",
        "#plt.plot(history.history['accuracy'])\n",
        "##plt.plot(history.history['val_accuracy'])\n",
        "#plt.title('Model Accuracy')\n",
        "#plt.ylabel('accuracy')\n",
        "#plt.xlabel('epoch')\n",
        "#plt.legend(['Train', 'Validation'], loc='upper left')\n",
        "#plt.show()"
      ]
    },
    {
      "cell_type": "code",
      "execution_count": null,
      "metadata": {
        "id": "2Fa9FyBIXsws"
      },
      "outputs": [],
      "source": [
        "# summarize history for loss\n",
        "#plt.plot(history.history['loss'])\n",
        "#plt.plot(history.history['val_loss'])\n",
        "#plt.title('Model Loss')\n",
        "#plt.ylabel('loss')\n",
        "#plt.xlabel('epoch')\n",
        "#plt.legend(['Train', 'Validation'], loc='upper left')\n",
        "#plt.show()"
      ]
    },
    {
      "cell_type": "code",
      "execution_count": null,
      "metadata": {
        "id": "FJ0yQFurOPnS"
      },
      "outputs": [],
      "source": [
        "#from keras.utils.vis_utils import plot_model\n",
        "#plot_model(model, to_file='modelSummary.png', show_shapes=True, show_layer_names=True)"
      ]
    },
    {
      "cell_type": "markdown",
      "metadata": {
        "id": "6-u76ltbpZgH"
      },
      "source": [
        "2915/2915 [==============================] - 34271s 12s/step - loss: 0.0373 - accuracy: 0.9868"
      ]
    },
    {
      "cell_type": "markdown",
      "metadata": {
        "id": "kmeybnXLQrW8"
      },
      "source": [
        "### Here we have trained the model. We now save it."
      ]
    },
    {
      "cell_type": "code",
      "execution_count": null,
      "metadata": {
        "id": "OhD1xGj0UE0o",
        "colab": {
          "base_uri": "https://localhost:8080/"
        },
        "outputId": "1f8d8728-503a-45fb-d674-141898af4b4e"
      },
      "outputs": [
        {
          "output_type": "stream",
          "name": "stdout",
          "text": [
            "74\n"
          ]
        }
      ],
      "source": [
        "model = eventModel(\n",
        "    vocab_size=vocab_size,\n",
        "    embedding_dim=embedding_dim,\n",
        "    rnn_units=rnn_units,\n",
        "    batch_size = 1)"
      ]
    },
    {
      "cell_type": "code",
      "execution_count": null,
      "metadata": {
        "id": "qn0_-dK0OKxK",
        "colab": {
          "base_uri": "https://localhost:8080/"
        },
        "outputId": "44728281-9fd6-488d-8101-70cc5960580e"
      },
      "outputs": [
        {
          "output_type": "execute_result",
          "data": {
            "text/plain": [
              "<tensorflow.python.training.tracking.util.CheckpointLoadStatus at 0x7f31bc2094f0>"
            ]
          },
          "metadata": {},
          "execution_count": 31
        }
      ],
      "source": [
        "# Find last checkpoint\n",
        "tf.train.latest_checkpoint(checkpoint_dir)\n",
        "\n",
        "model.load_weights(tf.train.latest_checkpoint(checkpoint_dir))"
      ]
    },
    {
      "cell_type": "code",
      "execution_count": null,
      "metadata": {
        "id": "QT7u5yfIUguJ"
      },
      "outputs": [],
      "source": [
        "# The standard tf.keras.losses.sparse_categorical_crossentropy loss function works in this case \n",
        "# because it is applied across the last dimension of the predictions.\n",
        " \n",
        "# Because our model returns logits, we need to set the from_logits flag.\n",
        " \n",
        "loss = tf.losses.SparseCategoricalCrossentropy(from_logits=True)\n",
        "optimizer =  tf.keras.optimizers.SGD(learning_rate=0.01, momentum=0.9, clipvalue=3.0)\n",
        "\n",
        "model.compile(optimizer=optimizer, loss=loss, metrics=['accuracy'])"
      ]
    },
    {
      "cell_type": "code",
      "execution_count": null,
      "metadata": {
        "id": "B-hPUyktT7RX",
        "colab": {
          "base_uri": "https://localhost:8080/"
        },
        "outputId": "ab73022a-246b-4f8c-fc7e-e47cd4816d2f"
      },
      "outputs": [
        {
          "output_type": "stream",
          "name": "stdout",
          "text": [
            "Saving model to:  /content/gdrive/MyDrive/Colab Notebooks/Samsung/models_3/events_model.h5\n"
          ]
        }
      ],
      "source": [
        "print('Saving model to: ', keras_file)\n",
        "tf.keras.models.save_model(model, keras_file, include_optimizer=True)"
      ]
    },
    {
      "cell_type": "code",
      "execution_count": null,
      "metadata": {
        "id": "iSNlgqTP2cGI",
        "colab": {
          "base_uri": "https://localhost:8080/"
        },
        "outputId": "2d0c06bc-dd20-4832-b8f4-7625147effbf"
      },
      "outputs": [
        {
          "output_type": "stream",
          "name": "stdout",
          "text": [
            "Model: \"sequential\"\n",
            "_________________________________________________________________\n",
            " Layer (type)                Output Shape              Param #   \n",
            "=================================================================\n",
            " text_vectorization (TextVec  (None, None)             0         \n",
            " torization)                                                     \n",
            "                                                                 \n",
            "=================================================================\n",
            "Total params: 0\n",
            "Trainable params: 0\n",
            "Non-trainable params: 0\n",
            "_________________________________________________________________\n"
          ]
        },
        {
          "output_type": "stream",
          "name": "stderr",
          "text": [
            "WARNING:tensorflow:Compiled the loaded model, but the compiled metrics have yet to be built. `model.compile_metrics` will be empty until you train or evaluate the model.\n"
          ]
        }
      ],
      "source": [
        "source_vectorize_layer_model = tf.keras.models.Sequential()\n",
        "source_vectorize_layer_model.add(tf.keras.Input(shape=(1,), dtype=tf.string))\n",
        "source_vectorize_layer_model.add(sourceTextProcessor)\n",
        "source_vectorize_layer_model.summary()\n",
        "source_vectorize_layer_model.save(model_dir + \"/sourceTokenLayer\")"
      ]
    }
  ],
  "metadata": {
    "accelerator": "GPU",
    "colab": {
      "machine_shape": "hm",
      "provenance": []
    },
    "gpuClass": "premium",
    "kernelspec": {
      "display_name": "Python 3",
      "name": "python3"
    },
    "language_info": {
      "name": "python"
    }
  },
  "nbformat": 4,
  "nbformat_minor": 0
}
